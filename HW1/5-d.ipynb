{
  "nbformat": 4,
  "nbformat_minor": 0,
  "metadata": {
    "colab": {
      "provenance": []
    },
    "kernelspec": {
      "name": "python3",
      "display_name": "Python 3"
    },
    "language_info": {
      "name": "python"
    }
  },
  "cells": [
    {
      "cell_type": "code",
      "execution_count": 27,
      "metadata": {
        "id": "77tiP_6SsOTO"
      },
      "outputs": [],
      "source": [
        "import torch\n",
        "import torchvision\n",
        "import torchvision.transforms as transforms\n",
        "import matplotlib.pyplot as plt\n",
        "import numpy as np\n",
        "import torch.nn as nn\n",
        "import torch.optim as optim\n",
        "from PIL import Image"
      ]
    },
    {
      "cell_type": "markdown",
      "source": [
        "Import data and customize"
      ],
      "metadata": {
        "id": "OT50c4HWBurU"
      }
    },
    {
      "cell_type": "code",
      "source": [
        "\"\"\"\n",
        "This code processes multiple images, converts them to grayscale, flattens them into 1D vectors, and creates a training dataset with corresponding labels.\n",
        "\n",
        "\"\"\"\n",
        "image_arr = []  # Create an empty list to store processed image tensors.\n",
        "number_of_images = 3  # Define the number of images to process.\n",
        "\n",
        "for i in range(1, number_of_images+1):\n",
        "    img = Image.open(f'Q5_{i}.png')  # Open an image file.\n",
        "    transform = transforms.Grayscale()  # Convert the image to grayscale.\n",
        "    img = transform(img)\n",
        "    transform = transforms.ToTensor()  # Convert the image to a PyTorch tensor.\n",
        "    tensor = transform(img)\n",
        "    tensor = torch.flatten(tensor)  # Flatten the tensor to a 1D vector.\n",
        "    image_arr.append(tensor)\n",
        "\n",
        "x_train = torch.stack(image_arr)  # Stack the processed tensors to create the training data.\n",
        "y_train = torch.tensor([0, 1, 2], dtype=torch.long)  # Create labels for the training data."
      ],
      "metadata": {
        "id": "PMAOgX_wa3xp"
      },
      "execution_count": 28,
      "outputs": []
    },
    {
      "cell_type": "markdown",
      "source": [
        "Create a neural network model"
      ],
      "metadata": {
        "id": "l8dIGU1Jc3lN"
      }
    },
    {
      "cell_type": "code",
      "source": [
        "\"\"\"\n",
        "Create a neural network model using PyTorch's Sequential module.\n",
        "\n",
        "\"\"\"\n",
        "\n",
        "d = 26  # Define the hidden layer size for the neural network.\n",
        "model = nn.Sequential(\n",
        "    nn.LayerNorm(236032),  # Apply Layer Normalization to input data.\n",
        "    nn.Linear(236032, d),  # Create a linear (fully connected) layer with 236032 input and 'd' output neurons.\n",
        "    nn.Tanh(),  # Apply the Tanh activation function.\n",
        "    nn.Linear(d, 3),  # Create a linear layer with 'd' input and 3 output neurons.\n",
        "    nn.Softmax(dim=0)  # Apply softmax activation along dimension 0.\n",
        ")\n",
        "\n",
        "print(model)"
      ],
      "metadata": {
        "colab": {
          "base_uri": "https://localhost:8080/"
        },
        "id": "n7vQ-iNPc5E_",
        "outputId": "3da9872a-2621-4388-e838-d3e89cddee60"
      },
      "execution_count": 29,
      "outputs": [
        {
          "output_type": "stream",
          "name": "stdout",
          "text": [
            "Sequential(\n",
            "  (0): LayerNorm((236032,), eps=1e-05, elementwise_affine=True)\n",
            "  (1): Linear(in_features=236032, out_features=26, bias=True)\n",
            "  (2): Tanh()\n",
            "  (3): Linear(in_features=26, out_features=3, bias=True)\n",
            "  (4): Softmax(dim=0)\n",
            ")\n"
          ]
        }
      ]
    },
    {
      "cell_type": "markdown",
      "source": [
        "Computation Loss and Optimization"
      ],
      "metadata": {
        "id": "O_pxrwDJdHSg"
      }
    },
    {
      "cell_type": "code",
      "source": [
        "loss_fn = nn.CrossEntropyLoss()  # Define the loss function (cross-entropy) for classification.\n",
        "optimizer = optim.Adam(model.parameters(), lr=0.4)  # Define the optimizer (Adam) for training the model."
      ],
      "metadata": {
        "id": "ZrDhtpoadMgD"
      },
      "execution_count": 30,
      "outputs": []
    },
    {
      "cell_type": "markdown",
      "source": [
        "Loop through the training epochs"
      ],
      "metadata": {
        "id": "o60DUpxRdUuE"
      }
    },
    {
      "cell_type": "code",
      "source": [
        "\"\"\"\n",
        "This code performs training for a specified number of epochs (200) on a model using a given dataset. It computes the loss, updates the model parameters using an optimizer, and stores the loss values in a list. The loss values are then plotted against the training epochs.\n",
        "\n",
        "\"\"\"\n",
        "\n",
        "n_epochs = 200\n",
        "losses = []  # Create an empty list to store the loss values during training.\n",
        "\n",
        "for epoch in range(n_epochs):\n",
        "    Xbatch = x_train  # Get the input data.\n",
        "    y_pred = model(Xbatch)  # Make predictions using the model.\n",
        "    ybatch = y_train  # Get the actual labels.\n",
        "    loss = loss_fn(y_pred, ybatch)  # Calculate the loss.\n",
        "    losses.append(loss.item())  # Append the loss to the list.\n",
        "    optimizer.zero_grad()  # Zero the gradients.\n",
        "    loss.backward()  # Compute gradients via backpropagation.\n",
        "    optimizer.step()  # Update model parameters using the optimizer.\n",
        "    if (epoch % 10 == 0):\n",
        "        print(f'Finished epoch {epoch}, latest loss {loss}')\n",
        "\n",
        "# Plot the loss values over training epochs.\n",
        "plt.plot(range(n_epochs), losses)"
      ],
      "metadata": {
        "colab": {
          "base_uri": "https://localhost:8080/",
          "height": 811
        },
        "id": "UQfqh3zDdVuc",
        "outputId": "9763a167-2e99-4707-b49c-eee877507dca"
      },
      "execution_count": 31,
      "outputs": [
        {
          "output_type": "stream",
          "name": "stdout",
          "text": [
            "Finished epoch 0, latest loss 1.1001224517822266\n",
            "Finished epoch 10, latest loss 0.5514512658119202\n",
            "Finished epoch 20, latest loss 0.5514447689056396\n",
            "Finished epoch 30, latest loss 0.5514446496963501\n",
            "Finished epoch 40, latest loss 0.5514446496963501\n",
            "Finished epoch 50, latest loss 0.5514446496963501\n",
            "Finished epoch 60, latest loss 0.5514446496963501\n",
            "Finished epoch 70, latest loss 0.5514446496963501\n",
            "Finished epoch 80, latest loss 0.5514446496963501\n",
            "Finished epoch 90, latest loss 0.5514446496963501\n",
            "Finished epoch 100, latest loss 0.5514446496963501\n",
            "Finished epoch 110, latest loss 0.5514446496963501\n",
            "Finished epoch 120, latest loss 0.5514446496963501\n",
            "Finished epoch 130, latest loss 0.5514446496963501\n",
            "Finished epoch 140, latest loss 0.5514446496963501\n",
            "Finished epoch 150, latest loss 0.5514446496963501\n",
            "Finished epoch 160, latest loss 0.5514446496963501\n",
            "Finished epoch 170, latest loss 0.5514446496963501\n",
            "Finished epoch 180, latest loss 0.5514446496963501\n",
            "Finished epoch 190, latest loss 0.5514446496963501\n"
          ]
        },
        {
          "output_type": "execute_result",
          "data": {
            "text/plain": [
              "[<matplotlib.lines.Line2D at 0x79b7a694ae90>]"
            ]
          },
          "metadata": {},
          "execution_count": 31
        },
        {
          "output_type": "display_data",
          "data": {
            "text/plain": [
              "<Figure size 640x480 with 1 Axes>"
            ],
            "image/png": "[encoded data removed]"
          },
          "metadata": {}
        }
      ]
    },
    {
      "cell_type": "markdown",
      "source": [
        "Calculate and print accuracy"
      ],
      "metadata": {
        "id": "XdWdflFqda1J"
      }
    },
    {
      "cell_type": "code",
      "source": [
        "\"\"\"\n",
        "Calculate and print accuracy by comparing predicted labels to true labels.\n",
        "\n",
        "\"\"\"\n",
        "\n",
        "with torch.no_grad():\n",
        "    y_pred = model(x_train)  # Get predictions for the training data.\n",
        "    labels = [torch.argmax(a).item() for a in y_pred]  # Get predicted class labels.\n",
        "\n",
        "accuracy = [labels[i] == y_train[i] for i in range(3)]\n",
        "print(f\"Accuracy {accuracy}\")"
      ],
      "metadata": {
        "colab": {
          "base_uri": "https://localhost:8080/"
        },
        "id": "VBxj7CU0dhhR",
        "outputId": "cebc3f12-7ea8-449e-a1f7-43e5f703511d"
      },
      "execution_count": 32,
      "outputs": [
        {
          "output_type": "stream",
          "name": "stdout",
          "text": [
            "Accuracy [tensor(True), tensor(True), tensor(True)]\n"
          ]
        }
      ]
    }
  ]
}