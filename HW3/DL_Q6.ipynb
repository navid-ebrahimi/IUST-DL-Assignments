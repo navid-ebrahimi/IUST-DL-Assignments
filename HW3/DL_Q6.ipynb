{
  "nbformat": 4,
  "nbformat_minor": 0,
  "metadata": {
    "colab": {
      "provenance": []
    },
    "kernelspec": {
      "name": "python3",
      "display_name": "Python 3"
    },
    "language_info": {
      "name": "python"
    }
  },
  "cells": [
    {
      "cell_type": "code",
      "execution_count": null,
      "metadata": {
        "id": "9Ux3fcTap_Il"
      },
      "outputs": [],
      "source": [
        "import tensorflow as tf\n",
        "from tensorflow import keras\n",
        "import matplotlib.pyplot as plt\n",
        "import gdown\n",
        "import zipfile\n",
        "from tensorflow.keras.models import Sequential, Model\n",
        "from tensorflow.keras.layers import Dense, Conv2D, AveragePooling2D, MaxPool2D, Activation, Input, Flatten, Rescaling\n",
        "from tensorflow.keras.optimizers import Adam\n",
        "from tensorflow.keras.callbacks import EarlyStopping\n",
        "from tensorflow.keras import layers\n",
        "from tensorflow.keras.layers import Lambda\n",
        "from tensorflow.keras import activations\n",
        "from keras.preprocessing.image import load_img"
      ]
    },
    {
      "cell_type": "code",
      "source": [
        "seq_model = Sequential([\n",
        "    Conv2D(8, kernel_size=(1, 1), padding='same', activation='relu', input_shape=(256, 256, 3)),\n",
        "    Conv2D(16, kernel_size=(1, 1), activation='relu'),\n",
        "    Flatten(),\n",
        "    Dense(2, activation='sigmoid')\n",
        "])\n",
        "\n",
        "\n",
        "seq_model.summary()"
      ],
      "metadata": {
        "colab": {
          "base_uri": "https://localhost:8080/"
        },
        "id": "LUWthZXxrQPs",
        "outputId": "24076417-d684-46d7-ce29-ef07cc9d5450"
      },
      "execution_count": null,
      "outputs": [
        {
          "output_type": "stream",
          "name": "stdout",
          "text": [
            "Model: \"sequential_1\"\n",
            "_________________________________________________________________\n",
            " Layer (type)                Output Shape              Param #   \n",
            "=================================================================\n",
            " conv2d_2 (Conv2D)           (None, 256, 256, 8)       32        \n",
            "                                                                 \n",
            " conv2d_3 (Conv2D)           (None, 256, 256, 16)      144       \n",
            "                                                                 \n",
            " flatten_1 (Flatten)         (None, 1048576)           0         \n",
            "                                                                 \n",
            " dense_1 (Dense)             (None, 2)                 2097154   \n",
            "                                                                 \n",
            "=================================================================\n",
            "Total params: 2097330 (8.00 MB)\n",
            "Trainable params: 2097330 (8.00 MB)\n",
            "Non-trainable params: 0 (0.00 Byte)\n",
            "_________________________________________________________________\n"
          ]
        }
      ]
    }
  ]
}