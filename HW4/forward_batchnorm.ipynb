{
  "nbformat": 4,
  "nbformat_minor": 0,
  "metadata": {
    "colab": {
      "provenance": []
    },
    "kernelspec": {
      "name": "python3",
      "display_name": "Python 3"
    },
    "language_info": {
      "name": "python"
    }
  },
  "cells": [
    {
      "cell_type": "code",
      "execution_count": null,
      "metadata": {
        "id": "SuWmR7OFnFsS"
      },
      "outputs": [],
      "source": [
        "def forward_batchnorm(Z, gamma, beta, eps, cache_dict, beta_avg, mode):\n",
        "    \"\"\"\n",
        "    Performs the forward propagation through a BatchNorm layer.\n",
        "\n",
        "    Arguments:\n",
        "    Z -- input, with shape (num_examples, num_features)\n",
        "    gamma -- vector, BN layer parameter\n",
        "    beta -- vector, BN layer parameter\n",
        "    eps -- scalar, BN layer hyperparameter\n",
        "    beta_avg -- scalar, beta value to use for moving averages\n",
        "    mode -- boolean, indicating whether used at 'train' or 'test' time\n",
        "\n",
        "    Returns:\n",
        "    out -- output, with shape (num_examples, num_features)\n",
        "    \"\"\"\n",
        "\n",
        "    if mode == 'train':\n",
        "        # TODO: Mean of Z across first dimension\n",
        "        mu = np.mean(Z, axis=0)\n",
        "\n",
        "        # TODO: Variance of Z across first dimension\n",
        "        var = np.var(Z, axis=0)\n",
        "\n",
        "        # Take moving average for cache_dict['mu']\n",
        "        cache_dict['mu'] = beta_avg * cache_dict['mu'] + (1-beta_avg) * mu\n",
        "\n",
        "        # Take moving average for cache_dict['var']\n",
        "        cache_dict['var'] = beta_avg * cache_dict['var'] + (1-beta_avg) * var\n",
        "\n",
        "    elif mode == 'test':\n",
        "        # TODO: Load moving average of mu\n",
        "        mu = cache_dict['mu']\n",
        "\n",
        "        # TODO: Load moving average of var\n",
        "        var = cache_dict['var']\n",
        "\n",
        "    # TODO: Apply z_norm transformation\n",
        "    Z_norm = (Z - mu)/np.sqrt(var + eps)\n",
        "\n",
        "    # TODO: Apply gamma and beta transformation to get Z tiled\n",
        "    out = gamma*Z_norm + beta\n",
        "\n",
        "    return out\n"
      ]
    }
  ]
}